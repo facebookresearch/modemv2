{
 "cells": [
  {
   "attachments": {},
   "cell_type": "markdown",
   "metadata": {},
   "source": [
    "# How to interact with RoboHive Environments \n",
    "RoboHive supports two ways to interact with the environment depending on the need of time stepping\n",
    "\n",
    "## 1. Forward\n",
    "Forwarding an environment propagates updates to the environment without integrating the time forward. This is typically used when a user wants to retrieve detailed information about the current timestep (time=t)."
   ]
  },
  {
   "cell_type": "code",
   "execution_count": null,
   "metadata": {},
   "outputs": [],
   "source": [
    "import gym \n",
    "import robohive\n",
    "\n",
    "# create an env and reset\n",
    "env = gym.make('door-v1')\n",
    "env.reset()\n",
    "\n",
    "# Recover info at current timestep: obs(t), rwd(t), done(t), info(t)\n",
    "obs_t, rwd_t, done_t, info_t = env.forward()\n",
    "\n",
    "# close the env\n",
    "env.close()\n",
    "\n",
    "# View details of the current timestep\n",
    "print(f\"Time={env.time:.2f}\")\n",
    "print(f\"Observations={obs_t}\")\n",
    "print(f\"Reward={rwd_t}\")\n",
    "print(f\"Done={done_t}\")"
   ]
  },
  {
   "attachments": {},
   "cell_type": "markdown",
   "metadata": {},
   "source": [
    "## 2. Step\n",
    "Stepping an environment integrates the time forward and returns the detailed information about the environment at the next timestep (time=time+dt)."
   ]
  },
  {
   "cell_type": "code",
   "execution_count": null,
   "metadata": {},
   "outputs": [],
   "source": [
    "import gym \n",
    "import robohive\n",
    "\n",
    "# create an env and reset\n",
    "env = gym.make('door-v1')\n",
    "env.reset()\n",
    "\n",
    "# Recover info at the next timestep: obs(t+dt), rwd(t+dt), done(t+dt), info(t+dt)\n",
    "obs_tdt, rwd_tdt, done_tdt, info_tdt = env.step(env.action_space.sample())\n",
    "\n",
    "# close the env\n",
    "env.close()\n",
    "\n",
    "# View details of the timestep = t+dt\n",
    "print(f\"Time={env.time:.2f}\")\n",
    "print(f\"Observations={obs_tdt}\")\n",
    "print(f\"Reward={rwd_tdt}\")\n",
    "print(f\"Done={done_tdt}\")"
   ]
  }
 ],
 "metadata": {
  "kernelspec": {
   "display_name": "vk_dm_control_test",
   "language": "python",
   "name": "python3"
  },
  "language_info": {
   "codemirror_mode": {
    "name": "ipython",
    "version": 3
   },
   "file_extension": ".py",
   "mimetype": "text/x-python",
   "name": "python",
   "nbconvert_exporter": "python",
   "pygments_lexer": "ipython3",
   "version": "3.10.6"
  },
  "orig_nbformat": 4,
  "vscode": {
   "interpreter": {
    "hash": "ff6d0f1e242d20bacda5180317d014718eda2529689388e4cc2600d04c401a8a"
   }
  }
 },
 "nbformat": 4,
 "nbformat_minor": 2
}

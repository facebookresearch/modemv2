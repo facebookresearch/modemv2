{
 "cells": [
  {
   "cell_type": "markdown",
   "id": "d1774d49",
   "metadata": {},
   "source": [
    "# RoboHive Environment Registration & Customization"
   ]
  },
  {
   "cell_type": "markdown",
   "id": "73cb3f29",
   "metadata": {},
   "source": [
    "## Register\n",
    "Follow Gym registration API to register a RoboHive Environment"
   ]
  },
  {
   "cell_type": "code",
   "execution_count": null,
   "id": "5451fd4a",
   "metadata": {},
   "outputs": [],
   "source": [
    "import gym\n",
    "from gym.envs.registration import register\n",
    "import os"
   ]
  },
  {
   "cell_type": "code",
   "execution_count": null,
   "id": "60752bde",
   "metadata": {},
   "outputs": [],
   "source": [
    "# Hand Manipulation Suite: Open door\n",
    "from robohive.envs.hands.door_v1 import DoorEnvV1\n",
    "register(\n",
    "    id='DemoDoor-v1',\n",
    "    entry_point='robohive.envs.hands:DoorEnvV1',\n",
    "    max_episode_steps=100,\n",
    "    kwargs={\n",
    "        'model_path':'../envs/hands/assets/DAPG_door.xml',\n",
    "    }\n",
    ")"
   ]
  },
  {
   "cell_type": "markdown",
   "id": "865f3bd3",
   "metadata": {},
   "source": [
    "Lets test the newly registered environment"
   ]
  },
  {
   "cell_type": "code",
   "execution_count": null,
   "id": "49d97084",
   "metadata": {},
   "outputs": [],
   "source": [
    "env = gym.make('DemoDoor-v1')\n",
    "env.reset()\n",
    "print(f\"Time={env.time:.2f}\", end=\", \")\n",
    "for _ in range(10):\n",
    "    env.step(env.action_space.sample()) # take a random action\n",
    "    print(f\"{env.time:.2f}\", end=\", \")\n",
    "env.close()"
   ]
  },
  {
   "cell_type": "markdown",
   "id": "a5131b7c",
   "metadata": {},
   "source": [
    "## Configure\n",
    "RoboHive aggressively uses `kwargs` to configure environments. There are three different ways to configure environments in RoboHive \n",
    "\n",
    "### 1. Passing `kwargs` during registration\n",
    "In the examples below `kwargs` are used to specify which `robot_site_name` to use for reaching to which `target_site_name`. Additionally the randomization range of the target is specified as `target_xyz_range`."
   ]
  },
  {
   "cell_type": "code",
   "execution_count": null,
   "id": "3f057f97",
   "metadata": {},
   "outputs": [],
   "source": [
    "# Franka arm to reach random targets\n",
    "register(\n",
    "    id='DemoFrankaReachRandom-v0',\n",
    "    entry_point='robohive.envs.arms.reach_base_v0:ReachBaseV0',\n",
    "    max_episode_steps=50, #50steps*40Skip*2ms = 4s\n",
    "    kwargs={\n",
    "        'model_path': '../envs/arms/franka/assets/franka_reach_v0.xml',\n",
    "        'config_path': '../envs/arms/franka/assets/franka_reach_v0.config',\n",
    "        'robot_site_name': \"end_effector\",\n",
    "        'target_site_name': \"target\",\n",
    "        'target_xyz_range': {'high':[0.3, .5, 1.2], \n",
    "                             'low':[-.3, .1, .8]\n",
    "                            }\n",
    "    }\n",
    ")"
   ]
  },
  {
   "cell_type": "markdown",
   "id": "595943b4",
   "metadata": {},
   "source": [
    "Lets inspect one of the passed configurations"
   ]
  },
  {
   "cell_type": "code",
   "execution_count": null,
   "id": "8b2e71bb",
   "metadata": {},
   "outputs": [],
   "source": [
    "env = gym.make('DemoFrankaReachRandom-v0')\n",
    "print(\"Target randomization range::\\n\", env.target_xyz_range)"
   ]
  },
  {
   "cell_type": "markdown",
   "id": "e8878d86",
   "metadata": {},
   "source": [
    "### 2. Registering env variants\n",
    "While every RoboHive env are packaged with care, research projects often require flexibility to customize the prepackaed environments. RoboHive provides functionality to easily create variants of preregistered environments. We have found this functionality to be really useful when multiple closely related envs are required. For example -- env variations during hyper parameter sweeps, testing a policy on diffeernt env conditions, system identification."
   ]
  },
  {
   "cell_type": "code",
   "execution_count": null,
   "id": "00b91a71",
   "metadata": {},
   "outputs": [],
   "source": [
    "from robohive.envs.env_variants import register_env_variant\n",
    "base_env_name = \"kitchen-v3\"\n",
    "\n",
    "# Register a variant of the kitchen env\n",
    "base_env_variants={\n",
    "    'max_episode_steps':50,                     # special key\n",
    "    'obj_goal': {\"lightswitch_joint\": -0.7},    # obj_goal keys will be updated\n",
    "    'obs_keys_wt': {                            # obs_keys_wt will be updated\n",
    "        'robot_jnt': 5.0,\n",
    "        'obj_goal': 5.0,\n",
    "        'objs_jnt': 5.0,}\n",
    "}\n",
    "variant_env_name = register_env_variant(env_id=base_env_name, variants=base_env_variants)"
   ]
  },
  {
   "cell_type": "markdown",
   "id": "4d4cd8aa",
   "metadata": {},
   "source": [
    "Lets inspect the two env variants. Pay attention to two details -- name and the updated specs. \n",
    "1. Note that env-variant picks up a new unique name to distinguish itself from the original env. Unique name can also be expliciely provided using `variant_id`\n",
    "2. Variant env picks up the missing details from the base env. Information is merged by defaults. `override_keys` can be used to fully override any keys"
   ]
  },
  {
   "cell_type": "code",
   "execution_count": null,
   "id": "7d413c23",
   "metadata": {},
   "outputs": [],
   "source": [
    "print(f\"Base-env kwargs: {base_env_name}\")\n",
    "print(gym.envs.registry.env_specs[base_env_name]._kwargs)\n",
    "print(f\"\\nEnv-variant kwargs: {variant_env_name}\")\n",
    "print(gym.envs.registry.env_specs[variant_env_name]._kwargs)"
   ]
  },
  {
   "cell_type": "markdown",
   "id": "b7525792",
   "metadata": {},
   "source": [
    "### 3. Passing `kwargs` during make (not advised)\n",
    "In the examples below `kwargs` are used to change/boost the prespecified randomization range of the target"
   ]
  },
  {
   "cell_type": "code",
   "execution_count": null,
   "id": "ee9f532b",
   "metadata": {},
   "outputs": [],
   "source": [
    "env_kwargs = {'target_xyz_range' : \n",
    "                 {'high':[0.4, .6, 1.3], \n",
    "                  'low':[-.2, .0, .7]\n",
    "                 }\n",
    "             }\n",
    "env_new_range = gym.make('DemoFrankaReachRandom-v0', **(env_kwargs))"
   ]
  },
  {
   "cell_type": "markdown",
   "id": "05f29342",
   "metadata": {},
   "source": [
    "Lets inspect the passed configurations between the two envs"
   ]
  },
  {
   "cell_type": "code",
   "execution_count": null,
   "id": "9fd2d66c",
   "metadata": {},
   "outputs": [],
   "source": [
    "print(f\"Original env: {env.id}\\n target randomization range::\\n\", env.target_xyz_range)\n",
    "print(f\"Updated env: {env.id}\\n target randomization range::\\n\", env_new_range.target_xyz_range)"
   ]
  },
  {
   "cell_type": "markdown",
   "id": "5fd3b3bf",
   "metadata": {},
   "source": [
    "**NOTE:** Passing kwargs during make is not advisable as the updated env have the same id as the original env. This leads to two potential issues \n",
    "\n",
    "1. *Confusion while reporting results* - Reporting results using the env's name while its configurations have been changed leads to reproducibility issues. If env's configuration changes are needed, it is recommended to instead to use env_variant to register the altered name with its own unique id. This is a very common mistake in the field. Lets fix this! \n",
    "**Recommendation**: For reporting results RoboHive recommends projects/papers to use `register_env_variant` at top of their scripts to create a unique env name `<PAPERNAME>_FrankaReachRandom-v0` if default envs are customized in any way.\n",
    "\n",
    "2. *Confusion while usage* - two env with the same id but different properties can lead to confusion during development/usage. "
   ]
  }
 ],
 "metadata": {
  "kernelspec": {
   "display_name": "Python 3 (ipykernel)",
   "language": "python",
   "name": "python3"
  },
  "language_info": {
   "codemirror_mode": {
    "name": "ipython",
    "version": 3
   },
   "file_extension": ".py",
   "mimetype": "text/x-python",
   "name": "python",
   "nbconvert_exporter": "python",
   "pygments_lexer": "ipython3",
   "version": "3.10.6"
  }
 },
 "nbformat": 4,
 "nbformat_minor": 5
}
